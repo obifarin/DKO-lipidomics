{
 "cells": [
  {
   "cell_type": "markdown",
   "id": "5d51f1f6",
   "metadata": {},
   "source": [
    "# Flavors of Scaling"
   ]
  },
  {
   "cell_type": "code",
   "execution_count": 66,
   "id": "3d9a7ec2",
   "metadata": {},
   "outputs": [],
   "source": [
    "import numpy as np\n",
    "import pandas as pd\n",
    "import hvplot.pandas \n",
    "from matplotlib import pyplot as plt"
   ]
  },
  {
   "cell_type": "code",
   "execution_count": 73,
   "id": "4cb39491",
   "metadata": {},
   "outputs": [
    {
     "data": {},
     "metadata": {},
     "output_type": "display_data"
    },
    {
     "data": {
      "application/vnd.holoviews_exec.v0+json": "",
      "text/html": [
       "<div id='6313'>\n",
       "\n",
       "\n",
       "\n",
       "\n",
       "\n",
       "  <div class=\"bk-root\" id=\"8f8fb4b5-c3c7-424e-b8de-be331bffa1a8\" data-root-id=\"6313\"></div>\n",
       "</div>\n",
       "<script type=\"application/javascript\">(function(root) {\n",
       "  function embed_document(root) {\n",
       "    var docs_json = {\"8761bda5-6a89-434c-bd76-f0195e83d70d\":{\"defs\":[{\"extends\":null,\"module\":null,\"name\":\"ReactiveHTML1\",\"overrides\":[],\"properties\":[]},{\"extends\":null,\"module\":null,\"name\":\"FlexBox1\",\"overrides\":[],\"properties\":[{\"default\":\"flex-start\",\"kind\":null,\"name\":\"align_content\"},{\"default\":\"flex-start\",\"kind\":null,\"name\":\"align_items\"},{\"default\":\"row\",\"kind\":null,\"name\":\"flex_direction\"},{\"default\":\"wrap\",\"kind\":null,\"name\":\"flex_wrap\"},{\"default\":\"flex-start\",\"kind\":null,\"name\":\"justify_content\"}]},{\"extends\":null,\"module\":null,\"name\":\"TemplateActions1\",\"overrides\":[],\"properties\":[{\"default\":0,\"kind\":null,\"name\":\"open_modal\"},{\"default\":0,\"kind\":null,\"name\":\"close_modal\"}]},{\"extends\":null,\"module\":null,\"name\":\"MaterialTemplateActions1\",\"overrides\":[],\"properties\":[{\"default\":0,\"kind\":null,\"name\":\"open_modal\"},{\"default\":0,\"kind\":null,\"name\":\"close_modal\"}]}],\"roots\":{\"references\":[{\"attributes\":{\"margin\":[5,5,5,5],\"name\":\"HSpacer10686\",\"sizing_mode\":\"stretch_width\"},\"id\":\"6314\",\"type\":\"Spacer\"},{\"attributes\":{\"data\":{\"Variable\":[\"f(x)=2m+1: sublinear\",\"f(x)=2m+1: sublinear\",\"f(x)=2m+1: sublinear\",\"f(x)=2m+1: sublinear\",\"f(x)=2m+1: sublinear\",\"f(x)=2m+1: sublinear\",\"f(x)=2m+1: sublinear\",\"f(x)=2m+1: sublinear\",\"f(x)=2m+1: sublinear\",\"f(x)=2m+1: sublinear\",\"f(x)=2m+1: sublinear\",\"f(x)=2m+1: sublinear\",\"f(x)=2m+1: sublinear\",\"f(x)=2m+1: sublinear\",\"f(x)=2m+1: sublinear\",\"f(x)=2m+1: sublinear\",\"f(x)=2m+1: sublinear\",\"f(x)=2m+1: sublinear\",\"f(x)=2m+1: sublinear\",\"f(x)=2m+1: sublinear\",\"f(x)=2m+1: sublinear\",\"f(x)=2m+1: sublinear\",\"f(x)=2m+1: sublinear\",\"f(x)=2m+1: sublinear\",\"f(x)=2m+1: sublinear\",\"f(x)=2m+1: sublinear\",\"f(x)=2m+1: sublinear\",\"f(x)=2m+1: sublinear\",\"f(x)=2m+1: sublinear\",\"f(x)=2m+1: sublinear\",\"f(x)=2m+1: sublinear\",\"f(x)=2m+1: sublinear\",\"f(x)=2m+1: sublinear\",\"f(x)=2m+1: sublinear\",\"f(x)=2m+1: sublinear\",\"f(x)=2m+1: sublinear\",\"f(x)=2m+1: sublinear\",\"f(x)=2m+1: sublinear\",\"f(x)=2m+1: sublinear\",\"f(x)=2m+1: sublinear\",\"f(x)=2m+1: sublinear\",\"f(x)=2m+1: sublinear\",\"f(x)=2m+1: sublinear\",\"f(x)=2m+1: sublinear\",\"f(x)=2m+1: sublinear\",\"f(x)=2m+1: sublinear\",\"f(x)=2m+1: sublinear\",\"f(x)=2m+1: sublinear\",\"f(x)=2m+1: sublinear\",\"f(x)=2m+1: sublinear\"],\"mass\":{\"__ndarray__\":\"AAAAAAAAAEAAAAAAAAAQQAAAAAAAABhAAAAAAAAAIEAAAAAAAAAkQAAAAAAAAChAAAAAAAAALEAAAAAAAAAwQAAAAAAAADJAAAAAAAAANEAAAAAAAAA2QAAAAAAAADhAAAAAAAAAOkAAAAAAAAA8QAAAAAAAAD5AAAAAAAAAQEAAAAAAAABBQAAAAAAAAEJAAAAAAAAAQ0AAAAAAAABEQAAAAAAAAEVAAAAAAAAARkAAAAAAAABHQAAAAAAAAEhAAAAAAAAASUAAAAAAAABKQAAAAAAAAEtAAAAAAAAATEAAAAAAAABNQAAAAAAAAE5AAAAAAAAAT0AAAAAAAABQQAAAAAAAgFBAAAAAAAAAUUAAAAAAAIBRQAAAAAAAAFJAAAAAAACAUkAAAAAAAABTQAAAAAAAgFNAAAAAAAAAVEAAAAAAAIBUQAAAAAAAAFVAAAAAAACAVUAAAAAAAABWQAAAAAAAgFZAAAAAAAAAV0AAAAAAAIBXQAAAAAAAAFhAAAAAAACAWEAAAAAAAABZQA==\",\"dtype\":\"float64\",\"order\":\"little\",\"shape\":[50]},\"value\":{\"__ndarray__\":\"AAAAAAAAFEAAAAAAAAAiQAAAAAAAACpAAAAAAAAAMUAAAAAAAAA1QAAAAAAAADlAAAAAAAAAPUAAAAAAAIBAQAAAAAAAgEJAAAAAAACAREAAAAAAAIBGQAAAAAAAgEhAAAAAAACASkAAAAAAAIBMQAAAAAAAgE5AAAAAAABAUEAAAAAAAEBRQAAAAAAAQFJAAAAAAABAU0AAAAAAAEBUQAAAAAAAQFVAAAAAAABAVkAAAAAAAEBXQAAAAAAAQFhAAAAAAABAWUAAAAAAAEBaQAAAAAAAQFtAAAAAAABAXEAAAAAAAEBdQAAAAAAAQF5AAAAAAABAX0AAAAAAACBgQAAAAAAAoGBAAAAAAAAgYUAAAAAAAKBhQAAAAAAAIGJAAAAAAACgYkAAAAAAACBjQAAAAAAAoGNAAAAAAAAgZEAAAAAAAKBkQAAAAAAAIGVAAAAAAACgZUAAAAAAACBmQAAAAAAAoGZAAAAAAAAgZ0AAAAAAAKBnQAAAAAAAIGhAAAAAAACgaEAAAAAAACBpQA==\",\"dtype\":\"float64\",\"order\":\"little\",\"shape\":[50]}},\"selected\":{\"id\":\"6377\"},\"selection_policy\":{\"id\":\"6393\"}},\"id\":\"6376\",\"type\":\"ColumnDataSource\"},{\"attributes\":{},\"id\":\"6370\",\"type\":\"UnionRenderers\"},{\"attributes\":{},\"id\":\"6356\",\"type\":\"Selection\"},{\"attributes\":{},\"id\":\"6377\",\"type\":\"Selection\"},{\"attributes\":{\"line_color\":\"#30a2da\",\"line_width\":2,\"x\":{\"field\":\"mass\"},\"y\":{\"field\":\"value\"}},\"id\":\"6358\",\"type\":\"Line\"},{\"attributes\":{\"end\":100.0,\"reset_end\":100.0,\"reset_start\":2.0,\"start\":2.0,\"tags\":[[[\"mass\",\"mass\",null]]]},\"id\":\"6315\",\"type\":\"Range1d\"},{\"attributes\":{\"source\":{\"id\":\"6355\"}},\"id\":\"6362\",\"type\":\"CDSView\"},{\"attributes\":{\"coordinates\":null,\"data_source\":{\"id\":\"6376\"},\"glyph\":{\"id\":\"6379\"},\"group\":null,\"hover_glyph\":null,\"muted_glyph\":{\"id\":\"6381\"},\"nonselection_glyph\":{\"id\":\"6380\"},\"selection_glyph\":{\"id\":\"6397\"},\"view\":{\"id\":\"6383\"}},\"id\":\"6382\",\"type\":\"GlyphRenderer\"},{\"attributes\":{\"source\":{\"id\":\"6376\"}},\"id\":\"6383\",\"type\":\"CDSView\"},{\"attributes\":{},\"id\":\"6324\",\"type\":\"LinearScale\"},{\"attributes\":{\"line_color\":\"#30a2da\",\"line_width\":2,\"x\":{\"field\":\"mass\"},\"y\":{\"field\":\"value\"}},\"id\":\"6375\",\"type\":\"Line\"},{\"attributes\":{\"callback\":null,\"renderers\":[{\"id\":\"6361\"},{\"id\":\"6382\"}],\"tags\":[\"hv_created\"],\"tooltips\":[[\"Variable\",\"@{Variable}\"],[\"mass\",\"@{mass}\"],[\"value\",\"@{value}\"]]},\"id\":\"6317\",\"type\":\"HoverTool\"},{\"attributes\":{\"children\":[{\"id\":\"6314\"},{\"id\":\"6319\"},{\"id\":\"6506\"}],\"margin\":[0,0,0,0],\"name\":\"Row10682\",\"tags\":[\"embedded\"]},\"id\":\"6313\",\"type\":\"Row\"},{\"attributes\":{\"line_color\":\"#fc4f30\",\"line_width\":2,\"x\":{\"field\":\"mass\"},\"y\":{\"field\":\"value\"}},\"id\":\"6379\",\"type\":\"Line\"},{\"attributes\":{\"end\":220.93182071694926,\"reset_end\":220.93182071694926,\"reset_start\":-18.25002788644183,\"start\":-18.25002788644183,\"tags\":[[[\"value\",\"value\",null]]]},\"id\":\"6316\",\"type\":\"Range1d\"},{\"attributes\":{\"line_alpha\":0.2,\"line_color\":\"#30a2da\",\"line_width\":2,\"x\":{\"field\":\"mass\"},\"y\":{\"field\":\"value\"}},\"id\":\"6360\",\"type\":\"Line\"},{\"attributes\":{\"margin\":[5,5,5,5],\"name\":\"HSpacer10687\",\"sizing_mode\":\"stretch_width\"},\"id\":\"6506\",\"type\":\"Spacer\"},{\"attributes\":{\"label\":{\"value\":\"f(x)=2m+1: sublinear\"},\"renderers\":[{\"id\":\"6382\"}]},\"id\":\"6396\",\"type\":\"LegendItem\"},{\"attributes\":{\"axis_label\":\"mass\",\"coordinates\":null,\"formatter\":{\"id\":\"6350\"},\"group\":null,\"major_label_policy\":{\"id\":\"6351\"},\"ticker\":{\"id\":\"6329\"}},\"id\":\"6328\",\"type\":\"LinearAxis\"},{\"attributes\":{\"line_color\":\"#fc4f30\",\"line_width\":2,\"x\":{\"field\":\"mass\"},\"y\":{\"field\":\"value\"}},\"id\":\"6397\",\"type\":\"Line\"},{\"attributes\":{\"coordinates\":null,\"group\":null,\"text\":\"linear vs. sublinear\",\"text_color\":\"black\",\"text_font_size\":\"12pt\"},\"id\":\"6320\",\"type\":\"Title\"},{\"attributes\":{},\"id\":\"6393\",\"type\":\"UnionRenderers\"},{\"attributes\":{},\"id\":\"6329\",\"type\":\"BasicTicker\"},{\"attributes\":{},\"id\":\"6326\",\"type\":\"LinearScale\"},{\"attributes\":{\"data\":{\"Variable\":[\"f(x)=m^3/4: sublinear\",\"f(x)=m^3/4: sublinear\",\"f(x)=m^3/4: sublinear\",\"f(x)=m^3/4: sublinear\",\"f(x)=m^3/4: sublinear\",\"f(x)=m^3/4: sublinear\",\"f(x)=m^3/4: sublinear\",\"f(x)=m^3/4: sublinear\",\"f(x)=m^3/4: sublinear\",\"f(x)=m^3/4: sublinear\",\"f(x)=m^3/4: sublinear\",\"f(x)=m^3/4: sublinear\",\"f(x)=m^3/4: sublinear\",\"f(x)=m^3/4: sublinear\",\"f(x)=m^3/4: sublinear\",\"f(x)=m^3/4: sublinear\",\"f(x)=m^3/4: sublinear\",\"f(x)=m^3/4: sublinear\",\"f(x)=m^3/4: sublinear\",\"f(x)=m^3/4: sublinear\",\"f(x)=m^3/4: sublinear\",\"f(x)=m^3/4: sublinear\",\"f(x)=m^3/4: sublinear\",\"f(x)=m^3/4: sublinear\",\"f(x)=m^3/4: sublinear\",\"f(x)=m^3/4: sublinear\",\"f(x)=m^3/4: sublinear\",\"f(x)=m^3/4: sublinear\",\"f(x)=m^3/4: sublinear\",\"f(x)=m^3/4: sublinear\",\"f(x)=m^3/4: sublinear\",\"f(x)=m^3/4: sublinear\",\"f(x)=m^3/4: sublinear\",\"f(x)=m^3/4: sublinear\",\"f(x)=m^3/4: sublinear\",\"f(x)=m^3/4: sublinear\",\"f(x)=m^3/4: sublinear\",\"f(x)=m^3/4: sublinear\",\"f(x)=m^3/4: sublinear\",\"f(x)=m^3/4: sublinear\",\"f(x)=m^3/4: sublinear\",\"f(x)=m^3/4: sublinear\",\"f(x)=m^3/4: sublinear\",\"f(x)=m^3/4: sublinear\",\"f(x)=m^3/4: sublinear\",\"f(x)=m^3/4: sublinear\",\"f(x)=m^3/4: sublinear\",\"f(x)=m^3/4: sublinear\",\"f(x)=m^3/4: sublinear\",\"f(x)=m^3/4: sublinear\"],\"mass\":{\"__ndarray__\":\"AAAAAAAAAEAAAAAAAAAQQAAAAAAAABhAAAAAAAAAIEAAAAAAAAAkQAAAAAAAAChAAAAAAAAALEAAAAAAAAAwQAAAAAAAADJAAAAAAAAANEAAAAAAAAA2QAAAAAAAADhAAAAAAAAAOkAAAAAAAAA8QAAAAAAAAD5AAAAAAAAAQEAAAAAAAABBQAAAAAAAAEJAAAAAAAAAQ0AAAAAAAABEQAAAAAAAAEVAAAAAAAAARkAAAAAAAABHQAAAAAAAAEhAAAAAAAAASUAAAAAAAABKQAAAAAAAAEtAAAAAAAAATEAAAAAAAABNQAAAAAAAAE5AAAAAAAAAT0AAAAAAAABQQAAAAAAAgFBAAAAAAAAAUUAAAAAAAIBRQAAAAAAAAFJAAAAAAACAUkAAAAAAAABTQAAAAAAAgFNAAAAAAAAAVEAAAAAAAIBUQAAAAAAAAFVAAAAAAACAVUAAAAAAAABWQAAAAAAAgFZAAAAAAAAAV0AAAAAAAIBXQAAAAAAAAFhAAAAAAACAWEAAAAAAAABZQA==\",\"dtype\":\"float64\",\"order\":\"little\",\"shape\":[50]},\"value\":{\"__ndarray__\":\"rdNamZ/o+j/NO39mnqAGQFajozZVqw5AFbcxCv4GE0AmRiMLYH4WQMC6elwoyhlAtrwgv1PzHEAAAAAAAAAgQNePhstKeiFAgbMWcTLqIkDi4ndcAFEkQCyB0g+7ryVAJZjwKTgHJ0Cd+DmOKFgoQHKnBOAgoylArdNamZ/oKkCYiH+FESksQMaxDR7VZC1AL/mhHT2cLkCg0sx/ks8vQCNPVgqLfzBA6IyW4YAVMUCMTaLGxKkxQND5JDJuPDJAaDbqa5LNMkB7fX7TRF0zQHJf+xyX6zNA3ltKhJl4NEBloqb4WgQ1QHT8w0HpjjVADbS2H1EYNkDNO39mnqA2QCAx8BXcJzdAetSCbhSuN0D165IDUTM4QA16ZcuatzhABntMLfo6OUAfAiwOd705QAfZmdsYPzpAx6HHlea/OkDl/1/Y5j87QBQkeeIfvztA7vu5nZc9PEAjCcukU7s8QANYKElZOD1AoRNnmK20PUDys/5gVTA+QFajozZVqz5Ar2s/drElP0An8pBJbp8/QA==\",\"dtype\":\"float64\",\"order\":\"little\",\"shape\":[50]}},\"selected\":{\"id\":\"6356\"},\"selection_policy\":{\"id\":\"6370\"}},\"id\":\"6355\",\"type\":\"ColumnDataSource\"},{\"attributes\":{\"label\":{\"value\":\"f(x)=m^3/4: sublinear\"},\"renderers\":[{\"id\":\"6361\"}]},\"id\":\"6374\",\"type\":\"LegendItem\"},{\"attributes\":{\"axis\":{\"id\":\"6328\"},\"coordinates\":null,\"grid_line_color\":null,\"group\":null,\"ticker\":null},\"id\":\"6331\",\"type\":\"Grid\"},{\"attributes\":{},\"id\":\"6333\",\"type\":\"BasicTicker\"},{\"attributes\":{\"line_alpha\":0.2,\"line_color\":\"#fc4f30\",\"line_width\":2,\"x\":{\"field\":\"mass\"},\"y\":{\"field\":\"value\"}},\"id\":\"6381\",\"type\":\"Line\"},{\"attributes\":{\"line_alpha\":0.1,\"line_color\":\"#fc4f30\",\"line_width\":2,\"x\":{\"field\":\"mass\"},\"y\":{\"field\":\"value\"}},\"id\":\"6380\",\"type\":\"Line\"},{\"attributes\":{},\"id\":\"6337\",\"type\":\"PanTool\"},{\"attributes\":{\"axis\":{\"id\":\"6332\"},\"coordinates\":null,\"dimension\":1,\"grid_line_color\":null,\"group\":null,\"ticker\":null},\"id\":\"6335\",\"type\":\"Grid\"},{\"attributes\":{\"axis_label\":\"\",\"coordinates\":null,\"formatter\":{\"id\":\"6353\"},\"group\":null,\"major_label_policy\":{\"id\":\"6354\"},\"ticker\":{\"id\":\"6333\"}},\"id\":\"6332\",\"type\":\"LinearAxis\"},{\"attributes\":{},\"id\":\"6351\",\"type\":\"AllLabels\"},{\"attributes\":{},\"id\":\"6338\",\"type\":\"WheelZoomTool\"},{\"attributes\":{},\"id\":\"6350\",\"type\":\"BasicTickFormatter\"},{\"attributes\":{},\"id\":\"6336\",\"type\":\"SaveTool\"},{\"attributes\":{\"below\":[{\"id\":\"6328\"}],\"center\":[{\"id\":\"6331\"},{\"id\":\"6335\"}],\"height\":350,\"left\":[{\"id\":\"6332\"}],\"margin\":[5,5,5,5],\"min_border_bottom\":10,\"min_border_left\":10,\"min_border_right\":10,\"min_border_top\":10,\"renderers\":[{\"id\":\"6361\"},{\"id\":\"6382\"}],\"right\":[{\"id\":\"6373\"}],\"sizing_mode\":\"fixed\",\"title\":{\"id\":\"6320\"},\"toolbar\":{\"id\":\"6342\"},\"width\":550,\"x_range\":{\"id\":\"6315\"},\"x_scale\":{\"id\":\"6324\"},\"y_range\":{\"id\":\"6316\"},\"y_scale\":{\"id\":\"6326\"}},\"id\":\"6319\",\"subtype\":\"Figure\",\"type\":\"Plot\"},{\"attributes\":{},\"id\":\"6354\",\"type\":\"AllLabels\"},{\"attributes\":{\"line_alpha\":0.1,\"line_color\":\"#30a2da\",\"line_width\":2,\"x\":{\"field\":\"mass\"},\"y\":{\"field\":\"value\"}},\"id\":\"6359\",\"type\":\"Line\"},{\"attributes\":{\"overlay\":{\"id\":\"6341\"}},\"id\":\"6339\",\"type\":\"BoxZoomTool\"},{\"attributes\":{\"click_policy\":\"mute\",\"coordinates\":null,\"group\":null,\"items\":[{\"id\":\"6374\"},{\"id\":\"6396\"}],\"location\":[0,0],\"title\":\"Variable\"},\"id\":\"6373\",\"type\":\"Legend\"},{\"attributes\":{},\"id\":\"6340\",\"type\":\"ResetTool\"},{\"attributes\":{\"bottom_units\":\"screen\",\"coordinates\":null,\"fill_alpha\":0.5,\"fill_color\":\"lightgrey\",\"group\":null,\"left_units\":\"screen\",\"level\":\"overlay\",\"line_alpha\":1.0,\"line_color\":\"black\",\"line_dash\":[4,4],\"line_width\":2,\"right_units\":\"screen\",\"syncable\":false,\"top_units\":\"screen\"},\"id\":\"6341\",\"type\":\"BoxAnnotation\"},{\"attributes\":{\"coordinates\":null,\"data_source\":{\"id\":\"6355\"},\"glyph\":{\"id\":\"6358\"},\"group\":null,\"hover_glyph\":null,\"muted_glyph\":{\"id\":\"6360\"},\"nonselection_glyph\":{\"id\":\"6359\"},\"selection_glyph\":{\"id\":\"6375\"},\"view\":{\"id\":\"6362\"}},\"id\":\"6361\",\"type\":\"GlyphRenderer\"},{\"attributes\":{},\"id\":\"6353\",\"type\":\"BasicTickFormatter\"},{\"attributes\":{\"tools\":[{\"id\":\"6317\"},{\"id\":\"6336\"},{\"id\":\"6337\"},{\"id\":\"6338\"},{\"id\":\"6339\"},{\"id\":\"6340\"}]},\"id\":\"6342\",\"type\":\"Toolbar\"}],\"root_ids\":[\"6313\"]},\"title\":\"Bokeh Application\",\"version\":\"2.4.0\"}};\n",
       "    var render_items = [{\"docid\":\"8761bda5-6a89-434c-bd76-f0195e83d70d\",\"root_ids\":[\"6313\"],\"roots\":{\"6313\":\"8f8fb4b5-c3c7-424e-b8de-be331bffa1a8\"}}];\n",
       "    root.Bokeh.embed.embed_items_notebook(docs_json, render_items);\n",
       "  }\n",
       "  if (root.Bokeh !== undefined && root.Bokeh.Panel !== undefined) {\n",
       "    embed_document(root);\n",
       "  } else {\n",
       "    var attempts = 0;\n",
       "    var timer = setInterval(function(root) {\n",
       "      if (root.Bokeh !== undefined && root.Bokeh.Panel !== undefined) {\n",
       "        clearInterval(timer);\n",
       "        embed_document(root);\n",
       "      } else if (document.readyState == \"complete\") {\n",
       "        attempts++;\n",
       "        if (attempts > 200) {\n",
       "          clearInterval(timer);\n",
       "          console.log(\"Bokeh: ERROR: Unable to run BokehJS code because BokehJS library is missing\");\n",
       "        }\n",
       "      }\n",
       "    }, 25, root)\n",
       "  }\n",
       "})(window);</script>"
      ],
      "text/plain": [
       ":NdOverlay   [Variable]\n",
       "   :Curve   [mass]   (value)"
      ]
     },
     "execution_count": 73,
     "metadata": {
      "application/vnd.holoviews_exec.v0+json": {
       "id": "6313"
      }
     },
     "output_type": "execute_result"
    }
   ],
   "source": [
    "def f(m): \n",
    "    return m**0.75\n",
    "\n",
    "def q(m): \n",
    "    return 2*m+1\n",
    "\n",
    "xlist = np.linspace(2, 100, 50 )\n",
    "ylist = f(xlist)\n",
    "llist = q(xlist)\n",
    "\n",
    "df = pd.DataFrame(list(zip(xlist, ylist, llist)), \n",
    "            columns = ['mass', 'f(x)=m^3/4: sublinear', 'f(x)=2m+1: sublinear'])\n",
    "\n",
    "df.hvplot(x='mass', y= ['f(x)=m^3/4: sublinear', 'f(x)=2m+1: sublinear'], \n",
    "          width=550, height=350, title='linear vs. sublinear')"
   ]
  },
  {
   "cell_type": "code",
   "execution_count": 92,
   "id": "85ca96d0",
   "metadata": {},
   "outputs": [
    {
     "data": {},
     "metadata": {},
     "output_type": "display_data"
    },
    {
     "data": {
      "application/vnd.holoviews_exec.v0+json": "",
      "text/html": [
       "<div id='10154'>\n",
       "\n",
       "\n",
       "\n",
       "\n",
       "\n",
       "  <div class=\"bk-root\" id=\"18388e64-5b42-482f-881a-ee2e423c71ed\" data-root-id=\"10154\"></div>\n",
       "</div>\n",
       "<script type=\"application/javascript\">(function(root) {\n",
       "  function embed_document(root) {\n",
       "    var docs_json = {\"8d9b89ce-d46d-439b-a0e3-b53319349285\":{\"defs\":[{\"extends\":null,\"module\":null,\"name\":\"ReactiveHTML1\",\"overrides\":[],\"properties\":[]},{\"extends\":null,\"module\":null,\"name\":\"FlexBox1\",\"overrides\":[],\"properties\":[{\"default\":\"flex-start\",\"kind\":null,\"name\":\"align_content\"},{\"default\":\"flex-start\",\"kind\":null,\"name\":\"align_items\"},{\"default\":\"row\",\"kind\":null,\"name\":\"flex_direction\"},{\"default\":\"wrap\",\"kind\":null,\"name\":\"flex_wrap\"},{\"default\":\"flex-start\",\"kind\":null,\"name\":\"justify_content\"}]},{\"extends\":null,\"module\":null,\"name\":\"TemplateActions1\",\"overrides\":[],\"properties\":[{\"default\":0,\"kind\":null,\"name\":\"open_modal\"},{\"default\":0,\"kind\":null,\"name\":\"close_modal\"}]},{\"extends\":null,\"module\":null,\"name\":\"MaterialTemplateActions1\",\"overrides\":[],\"properties\":[{\"default\":0,\"kind\":null,\"name\":\"open_modal\"},{\"default\":0,\"kind\":null,\"name\":\"close_modal\"}]}],\"roots\":{\"references\":[{\"attributes\":{\"axis\":{\"id\":\"10173\"},\"coordinates\":null,\"dimension\":1,\"grid_line_color\":null,\"group\":null,\"ticker\":null},\"id\":\"10176\",\"type\":\"Grid\"},{\"attributes\":{\"below\":[{\"id\":\"10169\"}],\"center\":[{\"id\":\"10172\"},{\"id\":\"10176\"}],\"height\":300,\"left\":[{\"id\":\"10173\"}],\"margin\":[5,5,5,5],\"min_border_bottom\":10,\"min_border_left\":10,\"min_border_right\":10,\"min_border_top\":10,\"renderers\":[{\"id\":\"10202\"},{\"id\":\"10211\"}],\"sizing_mode\":\"fixed\",\"title\":{\"id\":\"10161\"},\"toolbar\":{\"id\":\"10183\"},\"width\":350,\"x_range\":{\"id\":\"10156\"},\"x_scale\":{\"id\":\"10165\"},\"y_range\":{\"id\":\"10157\"},\"y_scale\":{\"id\":\"10167\"}},\"id\":\"10160\",\"subtype\":\"Figure\",\"type\":\"Plot\"},{\"attributes\":{},\"id\":\"10223\",\"type\":\"UnionRenderers\"},{\"attributes\":{\"coordinates\":null,\"group\":null,\"text\":\"Our goat farm\",\"text_color\":\"black\",\"text_font_size\":\"12pt\"},\"id\":\"10161\",\"type\":\"Title\"},{\"attributes\":{\"line_color\":\"#30a2da\",\"line_width\":2,\"x\":{\"field\":\"Number of goat\"},\"y\":{\"field\":\"Cost per one goat\"}},\"id\":\"10204\",\"type\":\"Line\"},{\"attributes\":{\"axis\":{\"id\":\"10169\"},\"coordinates\":null,\"grid_line_color\":null,\"group\":null,\"ticker\":null},\"id\":\"10172\",\"type\":\"Grid\"},{\"attributes\":{},\"id\":\"10191\",\"type\":\"BasicTickFormatter\"},{\"attributes\":{\"fill_alpha\":{\"value\":0.1},\"fill_color\":{\"value\":\"#000000\"},\"hatch_alpha\":{\"value\":0.1},\"hatch_color\":{\"value\":\"#000000\"},\"line_alpha\":{\"value\":0.1},\"line_color\":{\"value\":\"#000000\"},\"size\":{\"value\":5.477225575051661},\"x\":{\"field\":\"Number of goat\"},\"y\":{\"field\":\"Cost per one goat\"}},\"id\":\"10209\",\"type\":\"Scatter\"},{\"attributes\":{},\"id\":\"10178\",\"type\":\"PanTool\"},{\"attributes\":{\"margin\":[5,5,5,5],\"name\":\"HSpacer18502\",\"sizing_mode\":\"stretch_width\"},\"id\":\"10155\",\"type\":\"Spacer\"},{\"attributes\":{},\"id\":\"10170\",\"type\":\"BasicTicker\"},{\"attributes\":{},\"id\":\"10206\",\"type\":\"Selection\"},{\"attributes\":{},\"id\":\"10179\",\"type\":\"WheelZoomTool\"},{\"attributes\":{\"axis_label\":\"Cost per one goat\",\"coordinates\":null,\"formatter\":{\"id\":\"10194\"},\"group\":null,\"major_label_policy\":{\"id\":\"10195\"},\"ticker\":{\"id\":\"10174\"}},\"id\":\"10173\",\"type\":\"LinearAxis\"},{\"attributes\":{},\"id\":\"10174\",\"type\":\"BasicTicker\"},{\"attributes\":{\"data\":{\"Cost per one goat\":{\"__ndarray__\":\"AAAAAAAAWUAAAAAAAABUQAAAAAAAAElAbef7qfGiRkA=\",\"dtype\":\"float64\",\"order\":\"little\",\"shape\":[4]},\"Cost_per_one_goat\":{\"__ndarray__\":\"AAAAAAAAWUAAAAAAAABUQAAAAAAAAElAbef7qfGiRkA=\",\"dtype\":\"float64\",\"order\":\"little\",\"shape\":[4]},\"Number of goat\":[1,10,50,100],\"Number_of_goat\":[1,10,50,100]},\"selected\":{\"id\":\"10206\"},\"selection_policy\":{\"id\":\"10223\"}},\"id\":\"10205\",\"type\":\"ColumnDataSource\"},{\"attributes\":{},\"id\":\"10192\",\"type\":\"AllLabels\"},{\"attributes\":{\"coordinates\":null,\"data_source\":{\"id\":\"10205\"},\"glyph\":{\"id\":\"10208\"},\"group\":null,\"hover_glyph\":null,\"muted_glyph\":{\"id\":\"10210\"},\"nonselection_glyph\":{\"id\":\"10209\"},\"selection_glyph\":{\"id\":\"10213\"},\"view\":{\"id\":\"10212\"}},\"id\":\"10211\",\"type\":\"GlyphRenderer\"},{\"attributes\":{},\"id\":\"10177\",\"type\":\"SaveTool\"},{\"attributes\":{},\"id\":\"10167\",\"type\":\"LinearScale\"},{\"attributes\":{\"overlay\":{\"id\":\"10182\"}},\"id\":\"10180\",\"type\":\"BoxZoomTool\"},{\"attributes\":{},\"id\":\"10195\",\"type\":\"AllLabels\"},{\"attributes\":{\"source\":{\"id\":\"10205\"}},\"id\":\"10212\",\"type\":\"CDSView\"},{\"attributes\":{},\"id\":\"10181\",\"type\":\"ResetTool\"},{\"attributes\":{\"children\":[{\"id\":\"10155\"},{\"id\":\"10160\"},{\"id\":\"10322\"}],\"margin\":[0,0,0,0],\"name\":\"Row18498\",\"tags\":[\"embedded\"]},\"id\":\"10154\",\"type\":\"Row\"},{\"attributes\":{\"fill_color\":{\"value\":\"#000000\"},\"hatch_color\":{\"value\":\"#000000\"},\"line_color\":{\"value\":\"#000000\"},\"size\":{\"value\":5.477225575051661},\"x\":{\"field\":\"Number of goat\"},\"y\":{\"field\":\"Cost per one goat\"}},\"id\":\"10208\",\"type\":\"Scatter\"},{\"attributes\":{},\"id\":\"10194\",\"type\":\"BasicTickFormatter\"},{\"attributes\":{\"fill_alpha\":{\"value\":0.2},\"fill_color\":{\"value\":\"#000000\"},\"hatch_alpha\":{\"value\":0.2},\"hatch_color\":{\"value\":\"#000000\"},\"line_alpha\":{\"value\":0.2},\"line_color\":{\"value\":\"#000000\"},\"size\":{\"value\":5.477225575051661},\"x\":{\"field\":\"Number of goat\"},\"y\":{\"field\":\"Cost per one goat\"}},\"id\":\"10210\",\"type\":\"Scatter\"},{\"attributes\":{\"bottom_units\":\"screen\",\"coordinates\":null,\"fill_alpha\":0.5,\"fill_color\":\"lightgrey\",\"group\":null,\"left_units\":\"screen\",\"level\":\"overlay\",\"line_alpha\":1.0,\"line_color\":\"black\",\"line_dash\":[4,4],\"line_width\":2,\"right_units\":\"screen\",\"syncable\":false,\"top_units\":\"screen\"},\"id\":\"10182\",\"type\":\"BoxAnnotation\"},{\"attributes\":{\"callback\":null,\"renderers\":[{\"id\":\"10202\"},{\"id\":\"10211\"}],\"tags\":[\"hv_created\"],\"tooltips\":[[\"Number of goat\",\"@{Number_of_goat}\"],[\"Cost per one goat\",\"@{Cost_per_one_goat}\"]]},\"id\":\"10158\",\"type\":\"HoverTool\"},{\"attributes\":{\"tools\":[{\"id\":\"10158\"},{\"id\":\"10177\"},{\"id\":\"10178\"},{\"id\":\"10179\"},{\"id\":\"10180\"},{\"id\":\"10181\"}]},\"id\":\"10183\",\"type\":\"Toolbar\"},{\"attributes\":{\"margin\":[5,5,5,5],\"name\":\"HSpacer18503\",\"sizing_mode\":\"stretch_width\"},\"id\":\"10322\",\"type\":\"Spacer\"},{\"attributes\":{\"axis_label\":\"Number of goat\",\"coordinates\":null,\"formatter\":{\"id\":\"10191\"},\"group\":null,\"major_label_policy\":{\"id\":\"10192\"},\"ticker\":{\"id\":\"10170\"}},\"id\":\"10169\",\"type\":\"LinearAxis\"},{\"attributes\":{\"data\":{\"Cost per one goat\":{\"__ndarray__\":\"AAAAAAAAWUAAAAAAAABUQAAAAAAAAElAbef7qfGiRkA=\",\"dtype\":\"float64\",\"order\":\"little\",\"shape\":[4]},\"Cost_per_one_goat\":{\"__ndarray__\":\"AAAAAAAAWUAAAAAAAABUQAAAAAAAAElAbef7qfGiRkA=\",\"dtype\":\"float64\",\"order\":\"little\",\"shape\":[4]},\"Number of goat\":[1,10,50,100],\"Number_of_goat\":[1,10,50,100]},\"selected\":{\"id\":\"10197\"},\"selection_policy\":{\"id\":\"10221\"}},\"id\":\"10196\",\"type\":\"ColumnDataSource\"},{\"attributes\":{\"source\":{\"id\":\"10196\"}},\"id\":\"10203\",\"type\":\"CDSView\"},{\"attributes\":{\"end\":105.4727,\"reset_end\":105.4727,\"reset_start\":39.80030000000001,\"start\":39.80030000000001,\"tags\":[[[\"Cost per one goat\",\"Cost per one goat\",null]]]},\"id\":\"10157\",\"type\":\"Range1d\"},{\"attributes\":{\"angle\":{\"value\":0.0},\"fill_alpha\":{\"value\":1.0},\"fill_color\":{\"value\":\"#000000\"},\"hatch_alpha\":{\"value\":1.0},\"hatch_color\":{\"value\":\"#000000\"},\"hatch_scale\":{\"value\":12.0},\"hatch_weight\":{\"value\":1.0},\"line_alpha\":{\"value\":1.0},\"line_cap\":{\"value\":\"butt\"},\"line_color\":{\"value\":\"#000000\"},\"line_dash\":{\"value\":[]},\"line_dash_offset\":{\"value\":0},\"line_join\":{\"value\":\"bevel\"},\"line_width\":{\"value\":1},\"marker\":{\"value\":\"circle\"},\"size\":{\"value\":5.477225575051661},\"x\":{\"field\":\"Number of goat\"},\"y\":{\"field\":\"Cost per one goat\"}},\"id\":\"10213\",\"type\":\"Scatter\"},{\"attributes\":{},\"id\":\"10221\",\"type\":\"UnionRenderers\"},{\"attributes\":{\"line_alpha\":0.1,\"line_color\":\"#30a2da\",\"line_width\":2,\"x\":{\"field\":\"Number of goat\"},\"y\":{\"field\":\"Cost per one goat\"}},\"id\":\"10200\",\"type\":\"Line\"},{\"attributes\":{},\"id\":\"10165\",\"type\":\"LinearScale\"},{\"attributes\":{\"end\":100.0,\"reset_end\":100.0,\"reset_start\":1.0,\"start\":1.0,\"tags\":[[[\"Number of goat\",\"Number of goat\",null]]]},\"id\":\"10156\",\"type\":\"Range1d\"},{\"attributes\":{},\"id\":\"10197\",\"type\":\"Selection\"},{\"attributes\":{\"line_color\":\"#30a2da\",\"line_width\":2,\"x\":{\"field\":\"Number of goat\"},\"y\":{\"field\":\"Cost per one goat\"}},\"id\":\"10199\",\"type\":\"Line\"},{\"attributes\":{\"line_alpha\":0.2,\"line_color\":\"#30a2da\",\"line_width\":2,\"x\":{\"field\":\"Number of goat\"},\"y\":{\"field\":\"Cost per one goat\"}},\"id\":\"10201\",\"type\":\"Line\"},{\"attributes\":{\"coordinates\":null,\"data_source\":{\"id\":\"10196\"},\"glyph\":{\"id\":\"10199\"},\"group\":null,\"hover_glyph\":null,\"muted_glyph\":{\"id\":\"10201\"},\"nonselection_glyph\":{\"id\":\"10200\"},\"selection_glyph\":{\"id\":\"10204\"},\"view\":{\"id\":\"10203\"}},\"id\":\"10202\",\"type\":\"GlyphRenderer\"}],\"root_ids\":[\"10154\"]},\"title\":\"Bokeh Application\",\"version\":\"2.4.0\"}};\n",
       "    var render_items = [{\"docid\":\"8d9b89ce-d46d-439b-a0e3-b53319349285\",\"root_ids\":[\"10154\"],\"roots\":{\"10154\":\"18388e64-5b42-482f-881a-ee2e423c71ed\"}}];\n",
       "    root.Bokeh.embed.embed_items_notebook(docs_json, render_items);\n",
       "  }\n",
       "  if (root.Bokeh !== undefined && root.Bokeh.Panel !== undefined) {\n",
       "    embed_document(root);\n",
       "  } else {\n",
       "    var attempts = 0;\n",
       "    var timer = setInterval(function(root) {\n",
       "      if (root.Bokeh !== undefined && root.Bokeh.Panel !== undefined) {\n",
       "        clearInterval(timer);\n",
       "        embed_document(root);\n",
       "      } else if (document.readyState == \"complete\") {\n",
       "        attempts++;\n",
       "        if (attempts > 200) {\n",
       "          clearInterval(timer);\n",
       "          console.log(\"Bokeh: ERROR: Unable to run BokehJS code because BokehJS library is missing\");\n",
       "        }\n",
       "      }\n",
       "    }, 25, root)\n",
       "  }\n",
       "})(window);</script>"
      ],
      "text/plain": [
       ":Overlay\n",
       "   .Curve.I   :Curve   [Number of goat]   (Cost per one goat)\n",
       "   .Scatter.I :Scatter   [Number of goat]   (Cost per one goat)"
      ]
     },
     "execution_count": 92,
     "metadata": {
      "application/vnd.holoviews_exec.v0+json": {
       "id": "10154"
      }
     },
     "output_type": "execute_result"
    }
   ],
   "source": [
    "xlist = [1, 10, 50, 100]\n",
    "ylist = [100, 80, 50, 45.273]\n",
    "df = pd.DataFrame(list(zip(xlist, ylist)), \n",
    "            columns = ['Number of goat', 'Cost per one goat'])\n",
    "\n",
    "df.hvplot(x='Number of goat', \n",
    "          y='Cost per one goat', \n",
    "          width=350) * df.hvplot.scatter(x='Number of goat', \n",
    "                                         y='Cost per one goat',\n",
    "                                         c = 'k',\n",
    "                                         title='Our goat farm')"
   ]
  },
  {
   "cell_type": "code",
   "execution_count": null,
   "id": "f65ad892",
   "metadata": {},
   "outputs": [],
   "source": []
  },
  {
   "cell_type": "code",
   "execution_count": null,
   "id": "693ab256",
   "metadata": {},
   "outputs": [],
   "source": []
  }
 ],
 "metadata": {
  "kernelspec": {
   "display_name": "Python 3",
   "language": "python",
   "name": "python3"
  },
  "language_info": {
   "codemirror_mode": {
    "name": "ipython",
    "version": 3
   },
   "file_extension": ".py",
   "mimetype": "text/x-python",
   "name": "python",
   "nbconvert_exporter": "python",
   "pygments_lexer": "ipython3",
   "version": "3.8.8"
  }
 },
 "nbformat": 4,
 "nbformat_minor": 5
}
