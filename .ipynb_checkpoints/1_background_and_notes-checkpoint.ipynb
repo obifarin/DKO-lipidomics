{
 "cells": [
  {
   "cell_type": "markdown",
   "id": "c78bc5fd",
   "metadata": {},
   "source": [
    "# <center> Ovarian Cancer Lipidome Dynamics in a _Dicer-Pten_ <br> Double-Knockout Mouse Model </center>\n",
    "\n",
    "## <center> `Background and computation notes` </center>\n",
    "\n",
    "#### <center>`Olatomiwa O. Bifarin, Ph.D.`</center> <center>Postdoctoral Fellow</center> <center>School of Chemistry & Biochemistry</center> <center>Georgia Institute of Technology </center> <img src=\"images/GTlogo.png\" style=\"width:100px;height:100px\"/> "
   ]
  },
  {
   "cell_type": "markdown",
   "id": "075b8244",
   "metadata": {},
   "source": [
    "## Table of Contents\n",
    "<a id='0'></a>"
   ]
  },
  {
   "cell_type": "markdown",
   "id": "58619371",
   "metadata": {},
   "source": [
    "1. [Ovarian cancer background](#1) <br>\n",
    "2. [DKO mouse model](#2)<br>\n",
    "3. [Study design](#3) <br>\n",
    "4. [Timepoints conversion methods](#4) <br>\n",
    "5. [Questions & themes](#5) <br>\n",
    "6. [Early computational analysis notes](#6)<br>\n",
    "7. [Paper references](#7)"
   ]
  },
  {
   "cell_type": "markdown",
   "id": "9a092f3e",
   "metadata": {},
   "source": [
    "## 1. Ovarian cancer background</font>\n",
    "<a id='1'></a>"
   ]
  },
  {
   "cell_type": "markdown",
   "id": "afe1433a",
   "metadata": {},
   "source": [
    "<img src=\"images/OC_infographics.png\" width=400 height=400 />"
   ]
  },
  {
   "cell_type": "markdown",
   "id": "56eaa76b",
   "metadata": {},
   "source": [
    "## 2. DKO mouse model\n",
    "<a id='2'></a>"
   ]
  },
  {
   "cell_type": "markdown",
   "id": "4bb2edc3",
   "metadata": {},
   "source": [
    "<img src=\"images/dko_mice.png\" width=400 height=400 />"
   ]
  },
  {
   "cell_type": "markdown",
   "id": "68b35a16",
   "metadata": {},
   "source": [
    "## 3. Study design\n",
    "<a id='3'></a>"
   ]
  },
  {
   "cell_type": "markdown",
   "id": "2bcfd056",
   "metadata": {},
   "source": [
    "<img src=\"images/studydesign.png\" width=800 height=800 />"
   ]
  },
  {
   "cell_type": "markdown",
   "id": "549fcb0e",
   "metadata": {},
   "source": [
    "## 4. Timepoints conversion methods\n",
    "<a id='4'></a>"
   ]
  },
  {
   "cell_type": "markdown",
   "id": "c13dffdf",
   "metadata": {},
   "source": [
    "<img src=\"images/computation_design.png\" width=700 height=700 />"
   ]
  },
  {
   "cell_type": "markdown",
   "id": "cee5fb4e",
   "metadata": {},
   "source": [
    "##  5. Questions & themes\n",
    "<a id='5'></a>"
   ]
  },
  {
   "cell_type": "markdown",
   "id": "e49cf0c4",
   "metadata": {},
   "source": [
    "<img src=\"images/questions_and_themes.png\" width=700 height=700 />"
   ]
  },
  {
   "cell_type": "markdown",
   "id": "739ddbd9",
   "metadata": {},
   "source": [
    "## 6. Early computational analysis notes.\n",
    "<a id='6'></a>"
   ]
  },
  {
   "cell_type": "markdown",
   "id": "ed7f52d9",
   "metadata": {},
   "source": [
    "### a. Global Lipidomics Changes"
   ]
  },
  {
   "cell_type": "markdown",
   "id": "42af7596",
   "metadata": {},
   "source": [
    "**> Proportion of significant metabolic changes**\n",
    "- \tThe average abundance of metabolite (Avg[Met]) in DKO / average abundance of metabolite in controls.\n",
    "- \tFor each time point, calculate statistical significance between a metabolite abundance between DKO and control mice (say, FDR < 0.05). And plot the results in two ways: <br>\n",
    "1) number of increased (and decreased metabolites) for each time point, and <br>\n",
    "2) proportion of significant changes (increase and decreased merged) following ovarian cancer"
   ]
  },
  {
   "cell_type": "markdown",
   "id": "e472591d",
   "metadata": {},
   "source": [
    "**> Unsupervised learning** <br>\n",
    "Do sample cluster together based on presence (or progression) of ovarian cancer or is there a high individual similarity despite ovarian cancer? Here, I will plot a PCA or a t-SNE. For the three possibilities, different color-coding methods are needed based on: \n",
    "1) presence or absence of ovarian cancer <br>\n",
    "2) progression of ovarian cancer <br>\n",
    "3) samples."
   ]
  },
  {
   "cell_type": "markdown",
   "id": "5d26e781",
   "metadata": {},
   "source": [
    "### b. Longitudinal Lipidomic Trend"
   ]
  },
  {
   "cell_type": "markdown",
   "id": "2844dc5a",
   "metadata": {},
   "source": [
    "Are there distinctive metabolic clusters as the ovarian cancer progresses?\n",
    "-\tDefine longitudinal ovarian cancer progression cluster (perhaps looking at just the <0.05 FDR metabolites). Computational method: Hierarchical clustering or c-means clustering?\n",
    "-\tCreate correlation maps (Spearman correlation) between metabolites in each cluster."
   ]
  },
  {
   "cell_type": "markdown",
   "id": "6cf1ffd1",
   "metadata": {},
   "source": [
    "### c.\tEarly Stage Lipidomic Signature for OC.</font>\n",
    "\n",
    "What are the early stage OC metabolic phenotypes?\n"
   ]
  },
  {
   "cell_type": "markdown",
   "id": "36d0c2b7",
   "metadata": {},
   "source": [
    "### d.\tMetabolic Pathway Analysis\n",
    "\n",
    "What are the system wide reconfigurations of metabolic pathways in OC?"
   ]
  },
  {
   "cell_type": "markdown",
   "id": "ad09d797",
   "metadata": {},
   "source": [
    "### e. Time of Death Prediction / Survival analysis\n",
    "\n",
    "\n",
    "Can we predict the time of death of mice (because of OC), using blood metabolites? Or perhaps a simple survival analysis."
   ]
  },
  {
   "cell_type": "markdown",
   "id": "493dec1d",
   "metadata": {},
   "source": [
    "## 7. Paper references\n",
    "<a id='7'></a>"
   ]
  },
  {
   "cell_type": "markdown",
   "id": "7549e68f",
   "metadata": {},
   "source": [
    "- [Metabolic Dynamics and Prediction of Gestational Age and Time to Delivery in Pregnant Women](https://www.cell.com/action/showPdf?pii=S0092-8674%2820%2930564-X)\n",
    "- [Molecular Choreography of Acute Exercise](https://www.cell.com/action/showPdf?pii=S0092-8674%2820%2930508-0)"
   ]
  },
  {
   "cell_type": "code",
   "execution_count": 2,
   "id": "1f5708f3",
   "metadata": {},
   "outputs": [],
   "source": [
    "from IPython.display import IFrame"
   ]
  },
  {
   "cell_type": "code",
   "execution_count": 5,
   "id": "7fbe8945",
   "metadata": {},
   "outputs": [
    {
     "data": {
      "text/html": [
       "\n",
       "        <iframe\n",
       "            width=\"700\"\n",
       "            height=\"600\"\n",
       "            src=\"https://www.cell.com/action/showPdf?pii=S0092-8674%2820%2930564-X\"\n",
       "            frameborder=\"0\"\n",
       "            allowfullscreen\n",
       "        ></iframe>\n",
       "        "
      ],
      "text/plain": [
       "<IPython.lib.display.IFrame at 0x7feab83bed00>"
      ]
     },
     "execution_count": 5,
     "metadata": {},
     "output_type": "execute_result"
    }
   ],
   "source": [
    "IFrame('https://www.cell.com/action/showPdf?pii=S0092-8674%2820%2930564-X', width=700, height=600)"
   ]
  },
  {
   "cell_type": "code",
   "execution_count": 4,
   "id": "f7bb4964",
   "metadata": {},
   "outputs": [
    {
     "data": {
      "text/html": [
       "\n",
       "        <iframe\n",
       "            width=\"700\"\n",
       "            height=\"600\"\n",
       "            src=\"https://www.cell.com/action/showPdf?pii=S0092-8674%2820%2930508-0\"\n",
       "            frameborder=\"0\"\n",
       "            allowfullscreen\n",
       "        ></iframe>\n",
       "        "
      ],
      "text/plain": [
       "<IPython.lib.display.IFrame at 0x7feab83be280>"
      ]
     },
     "execution_count": 4,
     "metadata": {},
     "output_type": "execute_result"
    }
   ],
   "source": [
    "IFrame('https://www.cell.com/action/showPdf?pii=S0092-8674%2820%2930508-0', width=700, height=600)"
   ]
  },
  {
   "cell_type": "markdown",
   "id": "f42494be",
   "metadata": {},
   "source": [
    "### [Go to Table of Contents](#0) <br>"
   ]
  },
  {
   "cell_type": "code",
   "execution_count": null,
   "id": "01482c95",
   "metadata": {},
   "outputs": [],
   "source": []
  }
 ],
 "metadata": {
  "kernelspec": {
   "display_name": "Python 3",
   "language": "python",
   "name": "python3"
  },
  "language_info": {
   "codemirror_mode": {
    "name": "ipython",
    "version": 3
   },
   "file_extension": ".py",
   "mimetype": "text/x-python",
   "name": "python",
   "nbconvert_exporter": "python",
   "pygments_lexer": "ipython3",
   "version": "3.8.8"
  }
 },
 "nbformat": 4,
 "nbformat_minor": 5
}
